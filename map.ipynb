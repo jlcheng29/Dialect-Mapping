{
 "cells": [
  {
   "cell_type": "code",
   "execution_count": 1,
   "metadata": {
    "collapsed": true
   },
   "outputs": [],
   "source": [
    "import numpy as np\n",
    "import pandas as pd\n",
    "\n",
    "import plotly\n",
    "import plotly.plotly as py\n",
    "import plotly.graph_objs as go\n",
    "plotly.tools.set_credentials_file(username='remoras2', api_key='JqXPI9S2Fs9rHbqFMEcr')\n",
    "mapbox_access_token = 'pk.eyJ1IjoicmVtb3JhczIiLCJhIjoiY2plYnl0ODczMGlpOTJ3czN0bGVoMG1qdSJ9.yJz5d8RD3xPpafPG2PAnVg'"
   ]
  },
  {
   "cell_type": "code",
   "execution_count": 139,
   "metadata": {},
   "outputs": [],
   "source": [
    "#red=[0]*12\n",
    "#green=[0]*12\n",
    "#blue=[0]*12\n",
    "#colors=[0]*12\n",
    "#for i in range(0,len(val)):\n",
    "#    red[i]=200-(val[i])*200\n",
    "#    green[i]=200-(val[i])*200\n",
    "#    blue[i]=200-(val[i])*200\n",
    "#    colors[i]='rgb('+ str(red[i])+','+str(green[i])+','+str(blue[i])+')'\n",
    "   # texts[i]+='<br> '#+str(val[i])"
   ]
  },
  {
   "cell_type": "code",
   "execution_count": 157,
   "metadata": {},
   "outputs": [
    {
     "data": {
      "text/html": [
       "<iframe id=\"igraph\" scrolling=\"no\" style=\"border:none;\" seamless=\"seamless\" src=\"https://plot.ly/~remoras2/100.embed\" height=\"525px\" width=\"100%\"></iframe>"
      ],
      "text/plain": [
       "<chart_studio.tools.PlotlyDisplay object>"
      ]
     },
     "execution_count": 157,
     "metadata": {},
     "output_type": "execute_result"
    }
   ],
   "source": [
    "val=[0,0,0,0.45,0.5,0.45,0.6,0.6,1,1,1,1]\n",
    "texts=['Beijing','Xian','Kunming','Suzhou','Wenzhou','Changsha','Shuangfeng','Nanchang','Meixian','Guangzhou','Fuzhou','Jianou']\n",
    "lats=[39.9042,34.3416,24.8801,31.2990,27.9938,28.2282,27.4567,28.6829,24.2659,23.1291,26.0745,27.0228]\n",
    "lons=[116.4074,108.9398,102.8329,120.5853,120.6994,112.9388,112.1752,115.8582,116.0817,113.2644,119.2965,118.3050]\n",
    "\n",
    "scl = [0,\"rgb(150,0,90)\"],[0.125,\"rgb(0, 0, 200)\"],[0.25,\"rgb(0, 25, 255)\"],\\\n",
    "[0.375,\"rgb(0, 152, 255)\"],[0.5,\"rgb(44, 255, 150)\"],[0.625,\"rgb(151, 255, 0)\"],\\\n",
    "[0.75,\"rgb(255, 234, 0)\"],[0.875,\"rgb(255, 111, 0)\"],[1,\"rgb(255, 0, 0)\"]\n",
    "\n",
    "for i in range(0,len(val)):\n",
    "    texts[i]+='<br>'+str(val[i])\n",
    "    \n",
    "cities = go.Scattergeo(\n",
    "    lon = lons,\n",
    "    lat = lats,\n",
    "    text = texts,\n",
    "    marker = go.scattergeo.Marker(\n",
    "        size = 10,\n",
    "        color = val,\n",
    "        colorscale=scl,\n",
    "        colorbar = dict(\n",
    "            thickness = 10,\n",
    "            titleside = \"right\",\n",
    "            outlinecolor = \"rgba(68, 68, 68, 0)\",\n",
    "            ticks = \"outside\",\n",
    "            ticklen = 3,\n",
    "            showticksuffix = \"last\",\n",
    "            #ticksuffix = \" inches\",\n",
    "            dtick = 0.1\n",
    "            )  \n",
    "        ),\n",
    "    ),\n",
    "\n",
    "layout = go.Layout(\n",
    "        title = go.layout.Title(\n",
    "            text = 'Norman similarity to Guangzhou by Jaccard method'\n",
    "        ),\n",
    "        #autosize=True,\n",
    "        #showlegend = True,\n",
    "        geo = go.layout.Geo(\n",
    "            #scope = 'asia',\n",
    "            resolution = 50,\n",
    "            showland = True,\n",
    "            showsubunits = True,\n",
    "            showcountries = True,\n",
    "            showlakes = True,\n",
    "            lakecolor = \"rgb(255, 255, 255)\",\n",
    "            landcolor = 'rgb(217, 217, 217)',\n",
    "            subunitwidth=1,\n",
    "           # subunitcolor=\"rgb(25, 255, 255)\",\n",
    "           # countrycolor=\"rgb(255, 255, 255)\",\n",
    "            lataxis = go.layout.geo.Lataxis(\n",
    "            range = [15, 55],\n",
    "            #showgrid = True,\n",
    "            #dtick = 10\n",
    "            ),\n",
    "            lonaxis = go.layout.geo.Lonaxis(\n",
    "            range = [70, 140],\n",
    "            #showgrid = True,\n",
    "            #dtick = 20\n",
    "            )\n",
    "        )\n",
    "    )\n",
    "\n",
    "fig = go.Figure(data=cities, layout=layout)\n",
    "py.iplot(fig, filename='g1')"
   ]
  },
  {
   "cell_type": "code",
   "execution_count": 158,
   "metadata": {},
   "outputs": [
    {
     "data": {
      "text/html": [
       "<iframe id=\"igraph\" scrolling=\"no\" style=\"border:none;\" seamless=\"seamless\" src=\"https://plot.ly/~remoras2/106.embed\" height=\"525px\" width=\"100%\"></iframe>"
      ],
      "text/plain": [
       "<chart_studio.tools.PlotlyDisplay object>"
      ]
     },
     "execution_count": 158,
     "metadata": {},
     "output_type": "execute_result"
    }
   ],
   "source": [
    "val=[0.5,0.5,0.5,0.95,1,0.55,0.5,0.7,0.5,0.5,0.5,0.5]\n",
    "texts=['Beijing','Xian','Kunming','Suzhou','Wenzhou','Changsha','Shuangfeng','Nanchang','Meixian','Guangzhou','Fuzhou','Jianou']\n",
    "lats=[39.9042,34.3416,24.8801,31.2990,27.9938,28.2282,27.4567,28.6829,24.2659,23.1291,26.0745,27.0228]\n",
    "lons=[116.4074,108.9398,102.8329,120.5853,120.6994,112.9388,112.1752,115.8582,116.0817,113.2644,119.2965,118.3050]\n",
    "\n",
    "scl = [0,\"rgb(150,0,90)\"],[0.125,\"rgb(0, 0, 200)\"],[0.25,\"rgb(0, 25, 255)\"],\\\n",
    "[0.375,\"rgb(0, 152, 255)\"],[0.5,\"rgb(44, 255, 150)\"],[0.625,\"rgb(151, 255, 0)\"],\\\n",
    "[0.75,\"rgb(255, 234, 0)\"],[0.875,\"rgb(255, 111, 0)\"],[1,\"rgb(255, 0, 0)\"]\n",
    "\n",
    "for i in range(0,len(val)):\n",
    "    texts[i]+='<br>'+str(val[i])\n",
    "    \n",
    "cities = go.Scattergeo(\n",
    "    lon = lons,\n",
    "    lat = lats,\n",
    "    text = texts,\n",
    "    marker = go.scattergeo.Marker(\n",
    "        size = 10,\n",
    "        color = val,\n",
    "        colorscale=scl,\n",
    "        colorbar = dict(\n",
    "            thickness = 10,\n",
    "            titleside = \"right\",\n",
    "            outlinecolor = \"rgba(68, 68, 68, 0)\",\n",
    "            ticks = \"outside\",\n",
    "            ticklen = 3,\n",
    "            showticksuffix = \"last\",\n",
    "            #ticksuffix = \" inches\",\n",
    "            dtick = 0.1\n",
    "            )  \n",
    "        ),\n",
    "    ),\n",
    "\n",
    "layout = go.Layout(\n",
    "        title = go.layout.Title(\n",
    "            text = 'Norman similarity to Wenzhou by Jaccard method'\n",
    "        ),\n",
    "        #autosize=True,\n",
    "        #showlegend = True,\n",
    "        geo = go.layout.Geo(\n",
    "            #scope = 'asia',\n",
    "            resolution = 50,\n",
    "            showland = True,\n",
    "            showsubunits = True,\n",
    "            showcountries = True,\n",
    "            showlakes = True,\n",
    "            lakecolor = \"rgb(255, 255, 255)\",\n",
    "            landcolor = 'rgb(217, 217, 217)',\n",
    "            subunitwidth=1,\n",
    "           # subunitcolor=\"rgb(25, 255, 255)\",\n",
    "           # countrycolor=\"rgb(255, 255, 255)\",\n",
    "            lataxis = go.layout.geo.Lataxis(\n",
    "            range = [15, 55],\n",
    "            #showgrid = True,\n",
    "            #dtick = 10\n",
    "            ),\n",
    "            lonaxis = go.layout.geo.Lonaxis(\n",
    "            range = [70, 140],\n",
    "            #showgrid = True,\n",
    "            #dtick = 20\n",
    "            )\n",
    "        )\n",
    "    )\n",
    "\n",
    "fig = go.Figure(data=cities, layout=layout)\n",
    "py.iplot(fig, filename='g2')"
   ]
  },
  {
   "cell_type": "code",
   "execution_count": 160,
   "metadata": {},
   "outputs": [
    {
     "data": {
      "text/html": [
       "<iframe id=\"igraph\" scrolling=\"no\" style=\"border:none;\" seamless=\"seamless\" src=\"https://plot.ly/~remoras2/110.embed\" height=\"525px\" width=\"100%\"></iframe>"
      ],
      "text/plain": [
       "<chart_studio.tools.PlotlyDisplay object>"
      ]
     },
     "execution_count": 160,
     "metadata": {},
     "output_type": "execute_result"
    }
   ],
   "source": [
    "val=[0.4,0.4,0.4,0.65,0.7,0.85,0.7,1,0.6,0.6,0.6,0.6]\n",
    "texts=['Beijing','Xian','Kunming','Suzhou','Wenzhou','Changsha','Shuangfeng','Nanchang','Meixian','Guangzhou','Fuzhou','Jianou']\n",
    "lats=[39.9042,34.3416,24.8801,31.2990,27.9938,28.2282,27.4567,28.6829,24.2659,23.1291,26.0745,27.0228]\n",
    "lons=[116.4074,108.9398,102.8329,120.5853,120.6994,112.9388,112.1752,115.8582,116.0817,113.2644,119.2965,118.3050]\n",
    "\n",
    "scl = [0,\"rgb(150,0,90)\"],[0.125,\"rgb(0, 0, 200)\"],[0.25,\"rgb(0, 25, 255)\"],\\\n",
    "[0.375,\"rgb(0, 152, 255)\"],[0.5,\"rgb(44, 255, 150)\"],[0.625,\"rgb(151, 255, 0)\"],\\\n",
    "[0.75,\"rgb(255, 234, 0)\"],[0.875,\"rgb(255, 111, 0)\"],[1,\"rgb(255, 0, 0)\"]\n",
    "\n",
    "for i in range(0,len(val)):\n",
    "    texts[i]+='<br>'+str(val[i])\n",
    "    \n",
    "cities = go.Scattergeo(\n",
    "    lon = lons,\n",
    "    lat = lats,\n",
    "    text = texts,\n",
    "    marker = go.scattergeo.Marker(\n",
    "        size = 10,\n",
    "        color = val,\n",
    "        colorscale=scl,\n",
    "        colorbar = dict(\n",
    "            thickness = 10,\n",
    "            titleside = \"right\",\n",
    "            outlinecolor = \"rgba(68, 68, 68, 0)\",\n",
    "            ticks = \"outside\",\n",
    "            ticklen = 3,\n",
    "            showticksuffix = \"last\",\n",
    "            #ticksuffix = \" inches\",\n",
    "            dtick = 0.1\n",
    "            )  \n",
    "        ),\n",
    "    ),\n",
    "\n",
    "layout = go.Layout(\n",
    "        title = go.layout.Title(\n",
    "            text = 'Norman similarity to Nanchang by Jaccard method'\n",
    "        ),\n",
    "        #autosize=True,\n",
    "        #showlegend = True,\n",
    "        geo = go.layout.Geo(\n",
    "            #scope = 'asia',\n",
    "            resolution = 50,\n",
    "            showland = True,\n",
    "            showsubunits = True,\n",
    "            showcountries = True,\n",
    "            showlakes = True,\n",
    "            lakecolor = \"rgb(255, 255, 255)\",\n",
    "            landcolor = 'rgb(217, 217, 217)',\n",
    "            subunitwidth=1,\n",
    "           # subunitcolor=\"rgb(25, 255, 255)\",\n",
    "           # countrycolor=\"rgb(255, 255, 255)\",\n",
    "            lataxis = go.layout.geo.Lataxis(\n",
    "            range = [15, 55],\n",
    "            #showgrid = True,\n",
    "            #dtick = 10\n",
    "            ),\n",
    "            lonaxis = go.layout.geo.Lonaxis(\n",
    "            range = [70, 140],\n",
    "            #showgrid = True,\n",
    "            #dtick = 20\n",
    "            )\n",
    "        )\n",
    "    )\n",
    "\n",
    "fig = go.Figure(data=cities, layout=layout)\n",
    "py.iplot(fig, filename='g4')"
   ]
  },
  {
   "cell_type": "code",
   "execution_count": 159,
   "metadata": {},
   "outputs": [
    {
     "data": {
      "text/html": [
       "<iframe id=\"igraph\" scrolling=\"no\" style=\"border:none;\" seamless=\"seamless\" src=\"https://plot.ly/~remoras2/108.embed\" height=\"525px\" width=\"100%\"></iframe>"
      ],
      "text/plain": [
       "<chart_studio.tools.PlotlyDisplay object>"
      ]
     },
     "execution_count": 159,
     "metadata": {},
     "output_type": "execute_result"
    }
   ],
   "source": [
    "val=[10,10,10,5.5,5,5.5,4,4,0,0,0,0]\n",
    "texts=['Beijing','Xian','Kunming','Suzhou','Wenzhou','Changsha','Shuangfeng','Nanchang','Meixian','Guangzhou','Fuzhou','Jianou']\n",
    "lats=[39.9042,34.3416,24.8801,31.2990,27.9938,28.2282,27.4567,28.6829,24.2659,23.1291,26.0745,27.0228]\n",
    "lons=[116.4074,108.9398,102.8329,120.5853,120.6994,112.9388,112.1752,115.8582,116.0817,113.2644,119.2965,118.3050]\n",
    "\n",
    "scl = [0,\"rgb(150,0,90)\"],[0.125,\"rgb(0, 0, 200)\"],[0.25,\"rgb(0, 25, 255)\"],\\\n",
    "[0.375,\"rgb(0, 152, 255)\"],[0.5,\"rgb(44, 255, 150)\"],[0.625,\"rgb(151, 255, 0)\"],\\\n",
    "[0.75,\"rgb(255, 234, 0)\"],[0.875,\"rgb(255, 111, 0)\"],[1,\"rgb(255, 0, 0)\"]\n",
    "\n",
    "for i in range(0,len(val)):\n",
    "    texts[i]+='<br>'+str(val[i])\n",
    "    \n",
    "cities = go.Scattergeo(\n",
    "    lon = lons,\n",
    "    lat = lats,\n",
    "    text = texts,\n",
    "    marker = go.scattergeo.Marker(\n",
    "        size = 10,\n",
    "        color = val,\n",
    "        colorscale=scl,\n",
    "        cmin=0,\n",
    "        cmax=10,\n",
    "        colorbar = dict(\n",
    "            thickness = 10,\n",
    "            titleside = \"right\",\n",
    "            outlinecolor = \"rgba(68, 68, 68, 0)\",\n",
    "            ticks = \"outside\",\n",
    "            ticklen = 3,\n",
    "            showticksuffix = \"last\",\n",
    "            #ticksuffix = \" inches\",\n",
    "            dtick = 1\n",
    "            )  \n",
    "        ),\n",
    "    ),\n",
    "\n",
    "layout = go.Layout(\n",
    "        title = go.layout.Title(\n",
    "            text = 'Norman similarity by Sum'\n",
    "        ),\n",
    "        #autosize=True,\n",
    "        #showlegend = True,\n",
    "        geo = go.layout.Geo(\n",
    "            #scope = 'asia',\n",
    "            resolution = 50,\n",
    "            showland = True,\n",
    "            showsubunits = True,\n",
    "            showcountries = True,\n",
    "            showlakes = True,\n",
    "            lakecolor = \"rgb(255, 255, 255)\",\n",
    "            landcolor = 'rgb(217, 217, 217)',\n",
    "            subunitwidth=1,\n",
    "           # subunitcolor=\"rgb(25, 255, 255)\",\n",
    "           # countrycolor=\"rgb(255, 255, 255)\",\n",
    "            lataxis = go.layout.geo.Lataxis(\n",
    "            range = [15, 55],\n",
    "            #showgrid = True,\n",
    "            #dtick = 10\n",
    "            ),\n",
    "            lonaxis = go.layout.geo.Lonaxis(\n",
    "            range = [70, 140],\n",
    "            #showgrid = True,\n",
    "            #dtick = 20\n",
    "            )\n",
    "        )\n",
    "    )\n",
    "\n",
    "fig = go.Figure(data=cities, layout=layout)\n",
    "py.iplot(fig, filename='g3')"
   ]
  },
  {
   "cell_type": "code",
   "execution_count": 91,
   "metadata": {},
   "outputs": [
    {
     "data": {
      "text/html": [
       "<iframe id=\"igraph\" scrolling=\"no\" style=\"border:none;\" seamless=\"seamless\" src=\"https://plot.ly/~remoras2/102.embed\" height=\"525px\" width=\"100%\"></iframe>"
      ],
      "text/plain": [
       "<chart_studio.tools.PlotlyDisplay object>"
      ]
     },
     "execution_count": 91,
     "metadata": {},
     "output_type": "execute_result"
    }
   ],
   "source": [
    "data = [\n",
    "    go.Scattermapbox(\n",
    "        lat=lats,\n",
    "        lon=lons,\n",
    "        mode='markers',\n",
    "        marker=go.scattermapbox.Marker(\n",
    "            size=14,\n",
    "            color=colors\n",
    "        ),\n",
    "        text=texts,\n",
    "    )\n",
    "]\n",
    "\n",
    "layout = go.Layout(\n",
    "    autosize=True,\n",
    "    hovermode='closest',\n",
    "    mapbox=go.layout.Mapbox(\n",
    "        accesstoken=mapbox_access_token,\n",
    "        bearing=0,\n",
    "        center=go.layout.mapbox.Center(\n",
    "            lat=30,\n",
    "            lon=115\n",
    "        ),\n",
    "        pitch=0,\n",
    "        zoom=5\n",
    "    ),\n",
    ")\n",
    "\n",
    "fig = go.Figure(data=data, layout=layout)\n",
    "py.iplot(fig, filename='Montreal Mapbox')\n"
   ]
  },
  {
   "cell_type": "code",
   "execution_count": null,
   "metadata": {
    "collapsed": true
   },
   "outputs": [],
   "source": []
  }
 ],
 "metadata": {
  "kernelspec": {
   "display_name": "Python 3",
   "language": "python",
   "name": "python3"
  },
  "language_info": {
   "codemirror_mode": {
    "name": "ipython",
    "version": 3
   },
   "file_extension": ".py",
   "mimetype": "text/x-python",
   "name": "python",
   "nbconvert_exporter": "python",
   "pygments_lexer": "ipython3",
   "version": "3.6.7"
  }
 },
 "nbformat": 4,
 "nbformat_minor": 2
}
